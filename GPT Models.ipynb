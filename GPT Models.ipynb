{
 "cells": [
  {
   "cell_type": "markdown",
   "id": "a59c1c63-82b4-423a-9fd7-a8bba5614a55",
   "metadata": {},
   "source": [
    "## Setting up the API\n",
    "\n",
    "Note: OpenAI has changed things since the video was created.\n",
    "\n",
    "To create an API key, go to Dashboard, then to the API key (last on sidebar)\n",
    "If you want the key to be in a new project, set up that project first."
   ]
  },
  {
   "cell_type": "code",
   "execution_count": 1,
   "id": "26d2f4da",
   "metadata": {},
   "outputs": [],
   "source": [
    "# one-time install commands\n",
    "\n",
    "#!pip install openai\n",
    "#!pip install config\n",
    "\n"
   ]
  },
  {
   "cell_type": "code",
   "execution_count": 2,
   "id": "0eb59ecd-d0a1-407c-8eed-8f2a81939fa9",
   "metadata": {},
   "outputs": [],
   "source": [
    "#load packages\n",
    "\n",
    "from openai import OpenAI\n",
    "import config\n",
    "\n",
    "# config is used to handle the api keys, if saved in a separate config file\n",
    "# safer to save into the environment"
   ]
  },
  {
   "cell_type": "code",
   "execution_count": 3,
   "id": "393ef8fb-ff16-4d0c-b185-9a978276d520",
   "metadata": {},
   "outputs": [],
   "source": [
    "#load the value of the key to intialize the client\n",
    "client = OpenAI(api_key = config.api_key)"
   ]
  },
  {
   "cell_type": "markdown",
   "id": "d1a36bd5-6854-4266-8d28-49578f7f6b0a",
   "metadata": {},
   "source": [
    "## Generating Text"
   ]
  },
  {
   "cell_type": "code",
   "execution_count": 4,
   "id": "eb0072d9-f5e0-4df6-ab6b-a8f4a4e89567",
   "metadata": {},
   "outputs": [],
   "source": [
    "# Create a function with some particular defaults\n",
    "\n",
    "def generate_text(prompt, tokens = 10, temperature = 0.7):\n",
    "    response = client.completions.create(\n",
    "        model=\"davinci-002\",\n",
    "        prompt=prompt,\n",
    "        max_tokens=tokens,\n",
    "        temperature=temperature) #temperature is randomness (0 is less random, 1 is more random)\n",
    "    return response.choices[0].text.strip()\n",
    "        #strip removes excess whitespace.  We want the text attribute of choices"
   ]
  },
  {
   "cell_type": "code",
   "execution_count": 5,
   "id": "0008f486-db70-4380-920d-156f601ef7e0",
   "metadata": {},
   "outputs": [],
   "source": [
    "# set a prompt\n",
    "prompt = \"Once upon a time\""
   ]
  },
  {
   "cell_type": "code",
   "execution_count": 6,
   "id": "6cb36e88-3623-446e-bb57-9db46baf7118",
   "metadata": {},
   "outputs": [
    {
     "name": "stdout",
     "output_type": "stream",
     "text": [
      "Once upon a time , there was a girl. She was a good girl. She was a nice girl.\n",
      "\n",
      "She was a bad girl.\n",
      "\n",
      "She was not a bad girl.\n",
      "\n",
      "She was a bad girl.\n",
      "\n",
      "She was a\n"
     ]
    }
   ],
   "source": [
    "# demonstrate the difference between temperatures\n",
    "temperature = 0.5\n",
    "tokens = 40\n",
    "generated = generate_text(prompt, tokens, temperature)\n",
    "print(prompt, generated)\n"
   ]
  },
  {
   "cell_type": "code",
   "execution_count": 7,
   "id": "fc15f2af",
   "metadata": {},
   "outputs": [
    {
     "name": "stdout",
     "output_type": "stream",
     "text": [
      "Once upon a time , I found myself the worst-case scenario for one of my career goals: I wanted to work with animals and I wound up unemployed and homeless, living in my car. For two years.\n",
      "\n",
      "I had\n"
     ]
    }
   ],
   "source": [
    "temperature = 0.9\n",
    "tokens = 40\n",
    "generated = generate_text(prompt, tokens, temperature)\n",
    "print(prompt, generated)"
   ]
  },
  {
   "cell_type": "code",
   "execution_count": 8,
   "id": "a8002a3c",
   "metadata": {},
   "outputs": [
    {
     "name": "stdout",
     "output_type": "stream",
     "text": [
      "Once upon a time …and then they began producing. As I discussed earlier, Nic likes act 1 to sprawl in the midd\n"
     ]
    }
   ],
   "source": [
    "# can go higher than 1 (up to 2), but it gets weird pretty quickly\n",
    "temperature = 1.2\n",
    "tokens = 40\n",
    "generated = generate_text(prompt, tokens, temperature)\n",
    "print(prompt, generated)"
   ]
  },
  {
   "cell_type": "markdown",
   "id": "ca0be88a-5119-46b8-ad2a-3d1abc905ed2",
   "metadata": {},
   "source": [
    "## Summarising Text"
   ]
  },
  {
   "cell_type": "code",
   "execution_count": 9,
   "id": "ed28b39c-06e6-48e4-a771-b6a104f3cda4",
   "metadata": {},
   "outputs": [],
   "source": [
    "def find_keywords(prompt):\n",
    "    # why do we need chat.completions here and not above? maybe because of the model/task\n",
    "    response = client.chat.completions.create(\n",
    "      model=\"gpt-3.5-turbo\",\n",
    "      \n",
    "      \n",
    "      messages=[\n",
    "        {\n",
    "            # instructions to the model \n",
    "          \"role\": \"system\",\n",
    "          \"content\": \"You will be provided with a block of text, and your task is to extract a list of keywords from it.\"\n",
    "        },\n",
    "        {\n",
    "            # example of supplied user input\n",
    "          \"role\": \"user\",\n",
    "          \"content\": \"A flying saucer seen by a guest house, a 7ft alien-like figure coming out of a hedge and a \\\"cigar-shaped\\\" UFO near a school yard.\\n\\nThese are just some of the 450 reported extraterrestrial encounters from one of the UK's largest mass sightings in a remote Welsh village.\\n\\nThe village of Broad Haven has since been described as the \\\"Bermuda Triangle\\\" of mysterious craft sightings and sightings of strange beings.\\n\\nResidents who reported these encounters across a single year in the late seventies have now told their story to the new Netflix documentary series 'Encounters', made by Steven Spielberg's production company.\\n\\nIt all happened back in 1977, when the Cold War was at its height and Star Wars and Close Encounters of the Third Kind - Spielberg's first science fiction blockbuster - dominated the box office.\"\n",
    "        },\n",
    "        {\n",
    "            # example of the output that should be provided for the input above\n",
    "          \"role\": \"assistant\",\n",
    "          \"content\": \"flying saucer, guest house, 7ft alien-like figure, hedge, cigar-shaped UFO, school yard, extraterrestrial encounters, UK, mass sightings, remote Welsh village, Broad Haven, Bermuda Triangle, mysterious craft sightings, strange beings, residents, single year, late seventies, Netflix documentary series, Steven Spielberg, production company, 1977, Cold War, Star Wars, Close Encounters of the Third Kind, science fiction blockbuster, box office.\"\n",
    "        },\n",
    "        {\n",
    "            # another pair of examples (input here, output below)\n",
    "          \"role\": \"user\",\n",
    "          \"content\": \"Each April, in the village of Maeliya in northwest Sri Lanka, Pinchal Weldurelage Siriwardene gathers his community under the shade of a large banyan tree. The tree overlooks a human-made body of water called a wewa – meaning reservoir or \\\"tank\\\" in Sinhala. The wewa stretches out besides the village's rice paddies for 175-acres (708,200 sq m) and is filled with the rainwater of preceding months.    \\n\\nSiriwardene, the 76-year-old secretary of the village's agrarian committee, has a tightly-guarded ritual to perform. By boiling coconut milk on an open hearth beside the tank, he will seek blessings for a prosperous harvest from the deities residing in the tree. \\\"It's only after that we open the sluice gate to water the rice fields,\\\" he told me when I visited on a scorching mid-April afternoon.\\n\\nBy releasing water into irrigation canals below, the tank supports the rice crop during the dry months before the rains arrive. For nearly two millennia, lake-like water bodies such as this have helped generations of farmers cultivate their fields. An old Sinhala phrase, \\\"wewai dagabai gamai pansalai\\\", even reflects the technology's centrality to village life; meaning \\\"tank, pagoda, village and temple\\\".\"\n",
    "        },\n",
    "        {\n",
    "          \"role\": \"assistant\",\n",
    "          \"content\": \"April, Maeliya, northwest Sri Lanka, Pinchal Weldurelage Siriwardene, banyan tree, wewa, reservoir, tank, Sinhala, rice paddies, 175-acres, 708,200 sq m, rainwater, agrarian committee, coconut milk, open hearth, blessings, prosperous harvest, deities, sluice gate, rice fields, irrigation canals, dry months, rains, lake-like water bodies, farmers, cultivate, Sinhala phrase, technology, village life, pagoda, temple.\"\n",
    "        }, \n",
    "        {\n",
    "            # this is what is actually going to be submitted by this function\n",
    "          \"role\": \"user\",\n",
    "          \"content\": prompt\n",
    "        }\n",
    "      ],\n",
    "      temperature=0.5,\n",
    "      max_tokens=256\n",
    "    )\n",
    "    return response.choices[0].message.content.strip()"
   ]
  },
  {
   "cell_type": "code",
   "execution_count": 10,
   "id": "348ec421-f720-473d-bfd1-b5dde90b27d3",
   "metadata": {},
   "outputs": [
    {
     "name": "stdout",
     "output_type": "stream",
     "text": [
      "Master Reef Guide Kirsty Whitman didn't need to tell me twice. \n",
      "Peering down through my snorkel mask in the direction of her pointed finger, \n",
      "I spotted a huge male manta ray trailing a female in perfect sync – \n",
      "an effort to impress a potential mate, exactly as Whitman had described \n",
      "during her animated presentation the previous evening. \n",
      "Having some knowledge of what was unfolding before my eyes on our snorkelling safari \n",
      "made the encounter even more magical as I kicked against the current \n",
      "to admire this intimate undersea ballet for a few precious seconds more.\n"
     ]
    }
   ],
   "source": [
    "prompt2 = \"\"\"Master Reef Guide Kirsty Whitman didn't need to tell me twice. \n",
    "Peering down through my snorkel mask in the direction of her pointed finger, \n",
    "I spotted a huge male manta ray trailing a female in perfect sync – \n",
    "an effort to impress a potential mate, exactly as Whitman had described \n",
    "during her animated presentation the previous evening. \n",
    "Having some knowledge of what was unfolding before my eyes on our snorkelling safari \n",
    "made the encounter even more magical as I kicked against the current \n",
    "to admire this intimate undersea ballet for a few precious seconds more.\"\"\"\n",
    "\n",
    "print(prompt2)"
   ]
  },
  {
   "cell_type": "code",
   "execution_count": 11,
   "id": "a1aef8ad-775c-48f5-8135-32a312f54f2e",
   "metadata": {},
   "outputs": [
    {
     "data": {
      "text/plain": [
       "'Master Reef Guide, Kirsty Whitman, snorkel mask, manta ray, female, male, potential mate, presentation, snorkelling safari, encounter, undersea ballet, current, magical, intimate, precious seconds.'"
      ]
     },
     "execution_count": 11,
     "metadata": {},
     "output_type": "execute_result"
    }
   ],
   "source": [
    "find_keywords(prompt2)"
   ]
  },
  {
   "cell_type": "code",
   "execution_count": 12,
   "id": "ef938a55",
   "metadata": {},
   "outputs": [
    {
     "name": "stdout",
     "output_type": "stream",
     "text": [
      "The classic image of competitive Ultimate Frisbee was almost certainly\n",
      "the amazing posterizing leap of Alex Nord, where he caught a disc by leaping almost entirely over\n",
      "another player in the National College Championship final. Carleton had been a powerhouse of ultimate \n",
      "for a while at that point, but Nord's outstanding catch brough him and the program to even more attention.\n",
      "Moving on to Seattle Sockeye for several years of national club championships, Alex continued to be \n",
      "an impact player at the highest levels.  But his catch, captured on film, may be the signature moment\n",
      "of his entire career. \n"
     ]
    }
   ],
   "source": [
    "prompt2 = \"\"\"The classic image of competitive Ultimate Frisbee was almost certainly\n",
    "the amazing posterizing leap of Alex Nord, where he caught a disc by leaping almost entirely over\n",
    "another player in the National College Championship final. Carleton had been a powerhouse of ultimate \n",
    "for a while at that point, but Nord's outstanding catch brough him and the program to even more attention.\n",
    "Moving on to Seattle Sockeye for several years of national club championships, Alex continued to be \n",
    "an impact player at the highest levels.  But his catch, captured on film, may be the signature moment\n",
    "of his entire career. \"\"\"\n",
    "print(prompt2)"
   ]
  },
  {
   "cell_type": "code",
   "execution_count": 13,
   "id": "f527c2f5",
   "metadata": {},
   "outputs": [
    {
     "data": {
      "text/plain": [
       "'Ultimate Frisbee, competitive, image, Alex Nord, disc, leap, player, National College Championship final, Carleton, powerhouse, attention, Seattle Sockeye, national club championships, impact player, highest levels, catch, film, signature moment, career.'"
      ]
     },
     "execution_count": 13,
     "metadata": {},
     "output_type": "execute_result"
    }
   ],
   "source": [
    "find_keywords(prompt2)"
   ]
  },
  {
   "cell_type": "markdown",
   "id": "d09f74ca-6080-4d76-bfd0-5f86414f945d",
   "metadata": {},
   "source": [
    "## Poetic Chatbot"
   ]
  },
  {
   "cell_type": "code",
   "execution_count": 14,
   "id": "060dbc6a-97c4-4c6c-be23-cd91f67c881d",
   "metadata": {},
   "outputs": [],
   "source": [
    "def poetic_chatbot(prompt):\n",
    "    response = client.chat.completions.create(\n",
    "        model = \"gpt-3.5-turbo\",\n",
    "        # same structure as the previous setup,\n",
    "        # but the system content and user/assistant are very different\n",
    "        messages = [\n",
    "            {\n",
    "                \"role\": \"system\",\n",
    "                \"content\": \"You are a poetic chatbot.\"\n",
    "            },\n",
    "            {\n",
    "                \"role\": \"user\",\n",
    "                \"content\": \"When was Google founded?\"\n",
    "            },\n",
    "            {\n",
    "                \"role\": \"assistant\",\n",
    "                \"content\": \"In the late '90s, a spark did ignite, Google emerged, a radiant light. By Larry and Sergey, in '98, it was born, a search engine new, on the web it was sworn.\"\n",
    "            },\n",
    "            {\n",
    "                \"role\": \"user\",\n",
    "                \"content\": \"Which country has the youngest president?\"\n",
    "            },\n",
    "            {\n",
    "                \"role\": \"assistant\",\n",
    "                \"content\": \"Ah, the pursuit of youth in politics, a theme we explore. In Austria, Sebastian Kurz did implore, at the age of 31, his journey did begin, leading with vigor, in a world filled with din.\"\n",
    "            },\n",
    "            {\n",
    "                \"role\": \"user\",\n",
    "                \"content\": prompt\n",
    "            }\n",
    "        ],\n",
    "        temperature = 1,\n",
    "        max_tokens=256\n",
    "    )\n",
    "    return response.choices[0].message.content.strip()"
   ]
  },
  {
   "cell_type": "code",
   "execution_count": 15,
   "id": "b5c2f356-2012-4a16-9cb7-d56873bbcab0",
   "metadata": {},
   "outputs": [
    {
     "data": {
      "text/plain": [
       "\"In times of antiquity, when milk did flow, the art of cheese-making began to show. It's said to be a gift of Greece or Rome, where curds and whey were transformed from home. Millennia have passed, yet cheese endures, a culinary delight that forever ensures.\""
      ]
     },
     "execution_count": 15,
     "metadata": {},
     "output_type": "execute_result"
    }
   ],
   "source": [
    "prompt3 = \"When was cheese first made?\"\n",
    "poetic_chatbot(prompt3)"
   ]
  },
  {
   "cell_type": "code",
   "execution_count": 16,
   "id": "c2d6d85a-edd1-4c7a-90c9-d6370eea39ba",
   "metadata": {},
   "outputs": [
    {
     "data": {
      "text/plain": [
       "'In the realm of unstructured data, a world unconfined, topics do abound, in the learning of the mind. Text mining, sentiment analysis, and natural language processing, weave tales of insight, in this field progressing. Image recognition, speech recognition too, glimpses into the future, of what technology can do. Clustering, classification, and more to explore, in an unstructured data class, knowledge galore.'"
      ]
     },
     "execution_count": 16,
     "metadata": {},
     "output_type": "execute_result"
    }
   ],
   "source": [
    "prompt3 = \"What are typical topics within an unstructured data class?\"\n",
    "poetic_chatbot(prompt3)"
   ]
  },
  {
   "cell_type": "code",
   "execution_count": 17,
   "id": "1d585c98",
   "metadata": {},
   "outputs": [],
   "source": [
    "## Summary"
   ]
  },
  {
   "cell_type": "code",
   "execution_count": 18,
   "id": "ec2ee7bb",
   "metadata": {},
   "outputs": [],
   "source": [
    "def summarize_text(prompt):\n",
    "    response = client.chat.completions.create(\n",
    "      model=\"gpt-3.5-turbo\",\n",
    "      \n",
    "      \n",
    "      messages=[\n",
    "        {\n",
    "            # instructions to the model \n",
    "          \"role\": \"system\",\n",
    "          \"content\": \"You will be provided with a block of text, and your task is to summarize the key points into the shortest possible output.\"\n",
    "        },\n",
    "        {\n",
    "            # example of supplied user input\n",
    "          \"role\": \"user\",\n",
    "          \"content\": \"\"\"A flying saucer seen by a guest house, a 7ft alien-like figure \n",
    "          coming out of a hedge and a \\\"cigar-shaped\\\" UFO near a school yard.\\n\\nThese are just some of the \n",
    "          450 reported extraterrestrial encounters from one of the UK's largest mass sightings \n",
    "          in a remote Welsh village.\\n\\nThe village of Broad Haven has since been described \n",
    "          as the \\\"Bermuda Triangle\\\" of mysterious craft sightings and sightings of strange beings.\n",
    "          \\n\\nResidents who reported these encounters across a single year in the late seventies \n",
    "          have now told their story to the new Netflix documentary series 'Encounters', \n",
    "          made by Steven Spielberg's production company.\\n\\nIt all happened back in 1977, \n",
    "          when the Cold War was at its height and Star Wars and Close Encounters of the Third Kind - \n",
    "          Spielberg's first science fiction blockbuster - dominated the box office.\"\"\"\n",
    "        },\n",
    "        {\n",
    "            # example of the output that should be provided for the input above\n",
    "          \"role\": \"assistant\",\n",
    "          \"content\": \"A remote Welsh village called Broad Haven has been the location of a large number of extraterrestrial encounters in the 1970s, now captured in a new Netflix documentary by Stephen Spielberg.\"\n",
    "        },\n",
    "        {\n",
    "            # another pair of examples (input here, output below)\n",
    "          \"role\": \"user\",\n",
    "          \"content\": \"Each April, in the village of Maeliya in northwest Sri Lanka, Pinchal Weldurelage Siriwardene gathers his community under the shade of a large banyan tree. The tree overlooks a human-made body of water called a wewa – meaning reservoir or \\\"tank\\\" in Sinhala. The wewa stretches out besides the village's rice paddies for 175-acres (708,200 sq m) and is filled with the rainwater of preceding months.    \\n\\nSiriwardene, the 76-year-old secretary of the village's agrarian committee, has a tightly-guarded ritual to perform. By boiling coconut milk on an open hearth beside the tank, he will seek blessings for a prosperous harvest from the deities residing in the tree. \\\"It's only after that we open the sluice gate to water the rice fields,\\\" he told me when I visited on a scorching mid-April afternoon.\\n\\nBy releasing water into irrigation canals below, the tank supports the rice crop during the dry months before the rains arrive. For nearly two millennia, lake-like water bodies such as this have helped generations of farmers cultivate their fields. An old Sinhala phrase, \\\"wewai dagabai gamai pansalai\\\", even reflects the technology's centrality to village life; meaning \\\"tank, pagoda, village and temple\\\".\"\n",
    "        },\n",
    "        {\n",
    "          \"role\": \"assistant\",\n",
    "          \"content\": \"Every April in a Sri Lankan village, a ritual is performed to ask for blessings before water is released from an artificial lake. The water is collected through the rainy season, then released for irrigation of rice paddies. It is essential technology for this agrarian society.\"\n",
    "        }, \n",
    "        {\n",
    "            # this is what is actually going to be submitted by this function\n",
    "          \"role\": \"user\",\n",
    "          \"content\": prompt\n",
    "        }\n",
    "      ],\n",
    "      temperature=0.5,\n",
    "      max_tokens=256\n",
    "    )\n",
    "    return response.choices[0].message.content.strip()"
   ]
  },
  {
   "cell_type": "code",
   "execution_count": 19,
   "id": "6f6f17ef",
   "metadata": {},
   "outputs": [
    {
     "name": "stdout",
     "output_type": "stream",
     "text": [
      "Alex Nord's incredible leap to catch a frisbee over another player in the National College Championship final became a defining moment in his career, propelling him and his team to greater recognition.\n",
      "0.33278145695364236\n"
     ]
    }
   ],
   "source": [
    "summary_result = summarize_text(prompt2)\n",
    "print(summary_result)\n",
    "print(len(summary_result)/len(prompt2))"
   ]
  },
  {
   "cell_type": "markdown",
   "id": "40a863a7-8e9c-4bd4-8f37-22f181aab714",
   "metadata": {},
   "source": [
    "## Langchain\n",
    "\n",
    "A way to import your own data for use by LLMs when performing tasks.  Up-to-date, context-specific, and accurate.\n",
    "\n",
    "Open Source framework, can use it to build end-to-end applications, like a customer-support chatbot\n",
    "\n",
    "This is more complicated, because it is going to create embeddings and store them\n",
    "\n"
   ]
  },
  {
   "cell_type": "code",
   "execution_count": 20,
   "id": "07b19ac2",
   "metadata": {},
   "outputs": [],
   "source": [
    "#!pip install langchain\n",
    "#!pip install -U langchain-community\n",
    "#!pip install -U langchain-openai\n",
    "#!pip install faiss-cpu"
   ]
  },
  {
   "cell_type": "code",
   "execution_count": 36,
   "id": "2136106c-c1f3-4183-87cf-080f2a996c62",
   "metadata": {},
   "outputs": [],
   "source": [
    "from langchain.document_loaders import WebBaseLoader\n",
    "from langchain.text_splitter import RecursiveCharacterTextSplitter\n",
    "from langchain_openai  import OpenAIEmbeddings, OpenAI\n",
    "from langchain.vectorstores import FAISS\n",
    "from langchain.memory import ConversationBufferMemory\n",
    "from langchain.chains import create_retrieval_chain"
   ]
  },
  {
   "cell_type": "code",
   "execution_count": 22,
   "id": "64d3f8e1-7bfe-46a2-8ac4-69bd3573b9ba",
   "metadata": {},
   "outputs": [],
   "source": [
    "url = \"https://365datascience.com/upcoming-courses\""
   ]
  },
  {
   "cell_type": "code",
   "execution_count": 23,
   "id": "39c45a1e-81a1-4a7e-a09a-e9e96301a95a",
   "metadata": {},
   "outputs": [],
   "source": [
    "loader = WebBaseLoader(url)"
   ]
  },
  {
   "cell_type": "code",
   "execution_count": 24,
   "id": "5bcba28e-45d6-45d9-8082-456f326f302c",
   "metadata": {},
   "outputs": [],
   "source": [
    "raw_documents = loader.load()"
   ]
  },
  {
   "cell_type": "code",
   "execution_count": 25,
   "id": "b5962b44-6a1f-47aa-affa-76c09e04b9b1",
   "metadata": {},
   "outputs": [],
   "source": [
    "text_splitter = RecursiveCharacterTextSplitter()\n",
    "documents = text_splitter.split_documents(raw_documents)"
   ]
  },
  {
   "cell_type": "code",
   "execution_count": 26,
   "id": "07ca2f5d-8b98-43ac-97fd-aac171f06211",
   "metadata": {},
   "outputs": [],
   "source": [
    "embeddings = OpenAIEmbeddings(openai_api_key = config.api_key)"
   ]
  },
  {
   "cell_type": "code",
   "execution_count": 27,
   "id": "fa219400-a3ab-4788-b1db-06c562b01d92",
   "metadata": {},
   "outputs": [],
   "source": [
    "vectorstore = FAISS.from_documents(documents, embeddings)"
   ]
  },
  {
   "cell_type": "code",
   "execution_count": 28,
   "id": "bda27b1e-80b6-44da-8a75-2a4096ce4849",
   "metadata": {},
   "outputs": [],
   "source": [
    "memory = ConversationBufferMemory(memory_key = \"chat_history\", return_messages=True)"
   ]
  },
  {
   "cell_type": "code",
   "execution_count": null,
   "id": "749c1cc6",
   "metadata": {},
   "outputs": [],
   "source": [
    "#  this is where we go \"off-script\" to really try to update past deprecation\n",
    "# but it's going to take a lot of upskilling\n",
    "rag_chain = create_retrieval_chain(vectorstore.as_retriever(), \n",
    "                                   )"
   ]
  },
  {
   "cell_type": "code",
   "execution_count": 35,
   "id": "038fd6e1-a7dd-4677-a419-4ccf12fa60b3",
   "metadata": {},
   "outputs": [
    {
     "ename": "AttributeError",
     "evalue": "'function' object has no attribute 'from_llm'",
     "output_type": "error",
     "traceback": [
      "\u001b[1;31m---------------------------------------------------------------------------\u001b[0m",
      "\u001b[1;31mAttributeError\u001b[0m                            Traceback (most recent call last)",
      "Cell \u001b[1;32mIn[35], line 1\u001b[0m\n\u001b[1;32m----> 1\u001b[0m qa \u001b[38;5;241m=\u001b[39m \u001b[43mcreate_retrieval_chain\u001b[49m\u001b[38;5;241;43m.\u001b[39;49m\u001b[43mfrom_llm\u001b[49m(OpenAI(openai_api_key\u001b[38;5;241m=\u001b[39mconfig\u001b[38;5;241m.\u001b[39mapi_key, temperature\u001b[38;5;241m=\u001b[39m\u001b[38;5;241m0\u001b[39m), vectorstore\u001b[38;5;241m.\u001b[39mas_retriever(), memory\u001b[38;5;241m=\u001b[39mmemory)\n",
      "\u001b[1;31mAttributeError\u001b[0m: 'function' object has no attribute 'from_llm'"
     ]
    }
   ],
   "source": [
    "# This altered version also doesn't work yet\n",
    "qa = create_retrieval_chain.from_llm(OpenAI(openai_api_key=config.api_key, temperature=0), \n",
    "                                     vectorstore.as_retriever(), \n",
    "                                     memory=memory)"
   ]
  },
  {
   "cell_type": "code",
   "execution_count": 30,
   "id": "f502fc58-8244-44fa-b64f-e00bd656db6c",
   "metadata": {},
   "outputs": [],
   "source": [
    "query = \"What is the next course to be uploaded on the 365DataScience platform?\""
   ]
  },
  {
   "cell_type": "code",
   "execution_count": 31,
   "id": "daaabefd-8a3d-4f6b-a6fc-1abe58d02e74",
   "metadata": {},
   "outputs": [
    {
     "name": "stderr",
     "output_type": "stream",
     "text": [
      "c:\\Users\\alanski\\AppData\\Local\\anaconda3\\envs\\mssaUDA\\Lib\\site-packages\\langchain_core\\_api\\deprecation.py:139: LangChainDeprecationWarning: The method `Chain.__call__` was deprecated in langchain 0.1.0 and will be removed in 0.3.0. Use invoke instead.\n",
      "  warn_deprecated(\n"
     ]
    }
   ],
   "source": [
    "# works with original code for this section, but deprecated\n",
    "result = qa({\"question\": query})"
   ]
  },
  {
   "cell_type": "code",
   "execution_count": 32,
   "id": "18b3430a-2abd-435a-8af7-70e5d8f48360",
   "metadata": {},
   "outputs": [
    {
     "data": {
      "text/plain": [
       "' The next course to be uploaded on the 365DataScience platform is \"Build Chat Applications with OpenAI and LangChain\" with Hristina Hristova.'"
      ]
     },
     "execution_count": 32,
     "metadata": {},
     "output_type": "execute_result"
    }
   ],
   "source": [
    "result[\"answer\"]"
   ]
  },
  {
   "cell_type": "code",
   "execution_count": null,
   "id": "5c63cf38-0d0d-4c3d-bbf4-d2e085319202",
   "metadata": {},
   "outputs": [],
   "source": []
  },
  {
   "cell_type": "code",
   "execution_count": null,
   "id": "cab9b98e-d5aa-4e03-b76f-ebe83d3256e3",
   "metadata": {},
   "outputs": [],
   "source": []
  },
  {
   "cell_type": "code",
   "execution_count": null,
   "id": "ce703e8c-9d8a-4b42-820a-d8a7cab1163b",
   "metadata": {},
   "outputs": [],
   "source": []
  },
  {
   "cell_type": "code",
   "execution_count": null,
   "id": "d6dc83dc-bbe2-46d1-8278-a78443e4797e",
   "metadata": {},
   "outputs": [],
   "source": []
  },
  {
   "cell_type": "code",
   "execution_count": null,
   "id": "3194e0b1-53c5-47b6-b8d7-2f09f5f25bd9",
   "metadata": {},
   "outputs": [],
   "source": []
  },
  {
   "cell_type": "code",
   "execution_count": null,
   "id": "1262f3a0-bdd7-4c98-ba9b-21769aeac8e9",
   "metadata": {},
   "outputs": [],
   "source": []
  },
  {
   "cell_type": "code",
   "execution_count": null,
   "id": "08643592-48be-45c4-9906-b32f6adaefc8",
   "metadata": {},
   "outputs": [],
   "source": []
  },
  {
   "cell_type": "code",
   "execution_count": null,
   "id": "6991e82d-1af4-497b-84b0-b3994e29ff85",
   "metadata": {},
   "outputs": [],
   "source": []
  },
  {
   "cell_type": "code",
   "execution_count": null,
   "id": "50ebc88d-dbbc-417b-b613-3bbb9f5f37b4",
   "metadata": {},
   "outputs": [],
   "source": []
  },
  {
   "cell_type": "code",
   "execution_count": null,
   "id": "bd8f1672-dac9-4e1a-9d07-1f57b0c55a15",
   "metadata": {},
   "outputs": [],
   "source": []
  },
  {
   "cell_type": "code",
   "execution_count": null,
   "id": "787f10b2-da3c-4ce5-bd3e-5fe0e3688a78",
   "metadata": {},
   "outputs": [],
   "source": []
  },
  {
   "cell_type": "code",
   "execution_count": null,
   "id": "cdcd15e0-9259-45b8-afe5-00c72d43cb2d",
   "metadata": {},
   "outputs": [],
   "source": []
  },
  {
   "cell_type": "code",
   "execution_count": null,
   "id": "aa2b00cb-dadb-46ab-933f-662e1766298a",
   "metadata": {},
   "outputs": [],
   "source": []
  }
 ],
 "metadata": {
  "kernelspec": {
   "display_name": "Python 3 (ipykernel)",
   "language": "python",
   "name": "python3"
  },
  "language_info": {
   "codemirror_mode": {
    "name": "ipython",
    "version": 3
   },
   "file_extension": ".py",
   "mimetype": "text/x-python",
   "name": "python",
   "nbconvert_exporter": "python",
   "pygments_lexer": "ipython3",
   "version": "3.11.9"
  }
 },
 "nbformat": 4,
 "nbformat_minor": 5
}
